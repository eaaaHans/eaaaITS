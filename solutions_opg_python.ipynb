{
  "nbformat": 4,
  "nbformat_minor": 0,
  "metadata": {
    "colab": {
      "provenance": [],
      "authorship_tag": "ABX9TyMj28EoFdTNUHlk4BVlaCtX",
      "include_colab_link": true
    },
    "kernelspec": {
      "name": "python3",
      "display_name": "Python 3"
    },
    "language_info": {
      "name": "python"
    }
  },
  "cells": [
    {
      "cell_type": "markdown",
      "metadata": {
        "id": "view-in-github",
        "colab_type": "text"
      },
      "source": [
        "<a href=\"https://colab.research.google.com/github/eaaaHans/eaaaITS/blob/main/solutions_opg_python.ipynb\" target=\"_parent\"><img src=\"https://colab.research.google.com/assets/colab-badge.svg\" alt=\"Open In Colab\"/></a>"
      ]
    },
    {
      "cell_type": "markdown",
      "source": [
        "## En mulig løsning på opgave 1:\n",
        "Fremsøg RFC 9110 HTTP Semantics find afsnittet om status codes (afsnit 15) og lav en liste med minimum 10 mulige status codes. Nu er opgaven at finde frem til det største tal i listen og hvilket indeks dette tal har i listen? Python har en række indbygget funktioner, mon ikke der er hjælp at hente der?\n",
        "\n",
        "En løsning kunne se sådan ud:"
      ],
      "metadata": {
        "id": "z_4BmEdwc_2x"
      }
    },
    {
      "cell_type": "code",
      "execution_count": null,
      "metadata": {
        "colab": {
          "base_uri": "https://localhost:8080/"
        },
        "id": "tNL83uW5c7Ha",
        "outputId": "fa506dda-e41c-4d89-fb54-9b883117f46a"
      },
      "outputs": [
        {
          "output_type": "stream",
          "name": "stdout",
          "text": [
            "Det største tal i min liste er 505 og det er placeret som indeks nummer 12\n"
          ]
        }
      ],
      "source": [
        "status_codes = [100, 200, 204, 301, 302, 307, 308, 403, 404, 408, 500, 502, 505]\n",
        "max_number = max(status_codes)\n",
        "max_index = status_codes.index(max_number)\n",
        "print(f'Det største tal i min liste er {max_number} og det er placeret som indeks nummer {max_index}')"
      ]
    }
  ]
}